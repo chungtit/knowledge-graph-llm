{
 "cells": [
  {
   "cell_type": "markdown",
   "metadata": {},
   "source": [
    "# Einstein Biography Knowledge Graph\n",
    "\n",
    "This notebook demonstrates the creation of a knowledge graph using spaCy and NetworkX. The graph visualizes key entities and relationships from a short biography of Albert Einstein"
   ]
  },
  {
   "cell_type": "markdown",
   "metadata": {},
   "source": [
    "### Importing necessary libraries."
   ]
  },
  {
   "cell_type": "code",
   "execution_count": null,
   "metadata": {
    "vscode": {
     "languageId": "plaintext"
    }
   },
   "outputs": [],
   "source": [
    "import spacy\n",
    "import networkx as nx\n",
    "import matplotlib.pyplot as plt"
   ]
  },
  {
   "cell_type": "markdown",
   "metadata": {},
   "source": [
    "### Loading and processing text with spaCy"
   ]
  },
  {
   "cell_type": "code",
   "execution_count": null,
   "metadata": {
    "vscode": {
     "languageId": "plaintext"
    }
   },
   "outputs": [],
   "source": [
    "# Load the spaCy English language model\n",
    "nlp = spacy.load(\"en_core_web_sm\")\n",
    "\n",
    "# Text to analyze\n",
    "text = \"Born in the German Empire, Einstein moved to Switzerland in 1895, and at the age of seventeen he enrolled in the mathematics and physics teaching diploma program at the Swiss federal polytechnic school. In 1903, he secured a permanent position at the Swiss Patent Office.\"\n",
    "\n",
    "# Process the text with spaCy\n",
    "doc = nlp(text)"
   ]
  },
  {
   "cell_type": "markdown",
   "metadata": {},
   "source": [
    "### Creating and populating a NetworkX graph with entities and relationships"
   ]
  },
  {
   "cell_type": "code",
   "execution_count": null,
   "metadata": {
    "vscode": {
     "languageId": "plaintext"
    }
   },
   "outputs": [],
   "source": [
    "# Create a networkx graph\n",
    "G = nx.DiGraph()\n",
    "\n",
    "# Add the main entity (Einstein) to the graph\n",
    "G.add_node(\"Einstein\", type=\"Person\")\n",
    "\n",
    "# Extract and add entities and relationships\n",
    "for ent in doc.ents:\n",
    "    # Add entity nodes\n",
    "    G.add_node(ent.text, type=ent.label_)\n",
    "    \n",
    "    # Add edges between Einstein and other entities\n",
    "    if ent.label_ in [\"GPE\", \"ORG\"]:\n",
    "        G.add_edge(\"Einstein\", ent.text, relation=\"associated_with\")\n",
    "\n",
    "# Add some specific relationships based on the text\n",
    "G.add_edge(\"Einstein\", \"German Empire\", relation=\"born_in\")\n",
    "G.add_edge(\"Einstein\", \"Switzerland\", relation=\"moved_to\")\n",
    "G.add_edge(\"Einstein\", \"Swiss federal polytechnic school\", relation=\"enrolled_in\")\n",
    "G.add_edge(\"Einstein\", \"Swiss Patent Office\", relation=\"worked_at\")"
   ]
  },
  {
   "cell_type": "markdown",
   "metadata": {},
   "source": [
    "### Visualizing the graph using Matplotlib"
   ]
  },
  {
   "cell_type": "code",
   "execution_count": null,
   "metadata": {
    "vscode": {
     "languageId": "plaintext"
    }
   },
   "outputs": [],
   "source": [
    "# Visualize the graph\n",
    "plt.figure(figsize=(10, 8))\n",
    "pos = nx.spring_layout(G, seed=42)\n",
    "node_colors = ['lightblue' if node == \"Einstein\" else 'lightgreen' for node in G.nodes()]\n",
    "node_sizes = [2000 if node == \"Einstein\" else 1000 for node in G.nodes()]\n",
    "\n",
    "nx.draw(G, pos, with_labels=True, node_color=node_colors, \n",
    "        node_size=node_sizes, font_size=8, \n",
    "        font_weight=\"bold\", arrows=True)\n",
    "\n",
    "# Draw edge labels\n",
    "edge_labels = nx.get_edge_attributes(G, 'relation')\n",
    "nx.draw_networkx_edge_labels(G, pos, edge_labels=edge_labels, font_size=6)\n",
    "\n",
    "plt.title(\"Einstein Biography Knowledge Graph\")\n",
    "plt.tight_layout()\n",
    "plt.show()\n",
    "\n",
    "# Print out the graph details\n",
    "print(\"Nodes:\", list(G.nodes(data=True)))\n",
    "print(\"\\nEdges:\", list(G.edges(data=True)))"
   ]
  }
 ],
 "metadata": {
  "language_info": {
   "name": "python"
  }
 },
 "nbformat": 4,
 "nbformat_minor": 2
}
